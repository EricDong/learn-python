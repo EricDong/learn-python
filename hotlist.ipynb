{
 "cells": [
  {
   "cell_type": "code",
   "execution_count": 1,
   "metadata": {},
   "outputs": [],
   "source": [
    "import requests\n",
    "\n",
    "url = 'https://www.zhihu.com/hot?list=science'\n",
    "headers = {'user-agent': 'Mozilla/5.0 (Macintosh; Intel Mac OS X 10_15_7) AppleWebKit/537.36 (KHTML, like Gecko) Chrome/85.0.4183.121 Safari/537.36', 'cookie': '_zap=fe8730e6-fb59-405b-88da-ae59f56fea65; _xsrf=531b3633-59d3-4f44-8ea0-2254b45b646d; d_c0=\"ACBch8b69xGPTuWKkV93AOMqx6BygnoHyes=|1601479404\"; Hm_lvt_98beee57fd2ef70ccdd5ca52b9740c49=1601479405,1601957649; SESSIONID=tIsMoiAKBiA5sydardi2av5zpC9xFnnRNJ7K3YZs8G6; JOID=V1scBUu7HlBWw_vXDLgdTGr8BCMRyV0sHamUnEj8cRtstoe1ZzM_JgrA99IFO8xEyekzvpHdPhEWlTaixPQmVuY=; osd=W18cBE-3GlBXx_fTDLkZQG78BScdzV0tGaWQnEn4fR9st4O5YzM-IgbE99MBN8hEyO0_upHcOh0SlTemyPAmV-I=; capsion_ticket=\"2|1:0|10:1602167942|14:capsion_ticket|44:ZDg0YzRhMjhmMWJmNGQ5Y2I2ODAwZTk3MDc1MjY2MTg=|1b3399632abcb23de18cd86a0fd4940e2aa8fe9fd8e3a7d410cab3b4fd4e88bf\"; z_c0=\"2|1:0|10:1602167945|4:z_c0|92:Mi4xNW80QUFBQUFBQUFBSUZ5SHh2cjNFU1lBQUFCZ0FsVk5pWEpzWUFCVHFVb2pZYkNyOTUyRl85OEZ3aUdtQ2I5a2ZR|d06ebd8d49c79507fc14a309ebcfb790af7199a5760ce0cfe6aa373f374ef524\"; tst=h; q_c1=1c237ec6dbb242bdafd7a1f62c90249e|1602167980000|1602167980000; tshl=science; Hm_lpvt_98beee57fd2ef70ccdd5ca52b9740c49=1602211962; KLBRSID=e42bab774ac0012482937540873c03cf|1602212841|1602211592'}\n",
    "req = requests.get(url, headers = headers)\n",
    "\n",
    "\n",
    "with open('hotlist.html','wb') as f:\n",
    "    f.write(req.content)\n"
   ]
  }
 ],
 "metadata": {
  "kernelspec": {
   "display_name": "Python 3",
   "language": "python",
   "name": "python3"
  },
  "language_info": {
   "codemirror_mode": {
    "name": "ipython",
    "version": 3
   },
   "file_extension": ".py",
   "mimetype": "text/x-python",
   "name": "python",
   "nbconvert_exporter": "python",
   "pygments_lexer": "ipython3",
   "version": "3.7.6"
  }
 },
 "nbformat": 4,
 "nbformat_minor": 4
}
